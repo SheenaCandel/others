{
 "cells": [
  {
   "cell_type": "markdown",
   "id": "02c2f5b5",
   "metadata": {
    "papermill": {
     "duration": 0.006916,
     "end_time": "2022-11-16T10:56:20.004455",
     "exception": false,
     "start_time": "2022-11-16T10:56:19.997539",
     "status": "completed"
    },
    "tags": []
   },
   "source": [
    "# 1.Initial step"
   ]
  },
  {
   "cell_type": "code",
   "execution_count": 1,
   "id": "0b3c25a2",
   "metadata": {
    "execution": {
     "iopub.execute_input": "2022-11-16T10:56:20.017589Z",
     "iopub.status.busy": "2022-11-16T10:56:20.017151Z",
     "iopub.status.idle": "2022-11-16T10:56:21.172215Z",
     "shell.execute_reply": "2022-11-16T10:56:21.171310Z"
    },
    "papermill": {
     "duration": 1.164769,
     "end_time": "2022-11-16T10:56:21.175001",
     "exception": false,
     "start_time": "2022-11-16T10:56:20.010232",
     "status": "completed"
    },
    "tags": []
   },
   "outputs": [],
   "source": [
    "#For general purpose\n",
    "import pandas as pd\n",
    "import numpy as np\n",
    "import matplotlib.pyplot as plt\n",
    "import seaborn as sns\n",
    "\n",
    "#For data preprocessing\n",
    "from sklearn.feature_extraction.text import CountVectorizer\n",
    "from sklearn.model_selection import train_test_split\n",
    "\n",
    "#For model creation and training\n",
    "from sklearn.naive_bayes import MultinomialNB\n",
    "\n",
    "#For model evaluation\n",
    "from sklearn.metrics import classification_report, confusion_matrix\n"
   ]
  },
  {
   "cell_type": "code",
   "execution_count": 2,
   "id": "f0005de2",
   "metadata": {
    "execution": {
     "iopub.execute_input": "2022-11-16T10:56:21.188433Z",
     "iopub.status.busy": "2022-11-16T10:56:21.188021Z",
     "iopub.status.idle": "2022-11-16T10:56:21.217345Z",
     "shell.execute_reply": "2022-11-16T10:56:21.216444Z"
    },
    "papermill": {
     "duration": 0.038669,
     "end_time": "2022-11-16T10:56:21.219741",
     "exception": false,
     "start_time": "2022-11-16T10:56:21.181072",
     "status": "completed"
    },
    "tags": []
   },
   "outputs": [],
   "source": [
    "file_train = '../input/email-classification-nlp/SMS_train.csv'\n",
    "file_test = '../input/email-classification-nlp/SMS_test.csv'\n",
    "\n",
    "df_train = pd.read_csv(file_train, encoding = 'cp1252')\n",
    "df_test = pd.read_csv(file_test, encoding = 'cp1252')"
   ]
  },
  {
   "cell_type": "markdown",
   "id": "63357500",
   "metadata": {
    "papermill": {
     "duration": 0.005604,
     "end_time": "2022-11-16T10:56:21.231494",
     "exception": false,
     "start_time": "2022-11-16T10:56:21.225890",
     "status": "completed"
    },
    "tags": []
   },
   "source": [
    "# 2. Data exploration and visualisation"
   ]
  },
  {
   "cell_type": "code",
   "execution_count": 3,
   "id": "4315464d",
   "metadata": {
    "execution": {
     "iopub.execute_input": "2022-11-16T10:56:21.244886Z",
     "iopub.status.busy": "2022-11-16T10:56:21.244446Z",
     "iopub.status.idle": "2022-11-16T10:56:21.257743Z",
     "shell.execute_reply": "2022-11-16T10:56:21.256832Z"
    },
    "papermill": {
     "duration": 0.022552,
     "end_time": "2022-11-16T10:56:21.259966",
     "exception": false,
     "start_time": "2022-11-16T10:56:21.237414",
     "status": "completed"
    },
    "tags": []
   },
   "outputs": [
    {
     "name": "stdout",
     "output_type": "stream",
     "text": [
      "   S. No.                                       Message_body     Label\n",
      "0       1                         Rofl. Its true to its name  Non-Spam\n",
      "1       2  The guy did some bitching but I acted like i'd...  Non-Spam\n",
      "2       3  Pity, * was in mood for that. So...any other s...  Non-Spam\n",
      "3       4               Will ü b going to esplanade fr home?  Non-Spam\n",
      "4       5  This is the 2nd time we have tried 2 contact u...      Spam\n",
      "(957, 3)\n"
     ]
    }
   ],
   "source": [
    "print(df_train.head())\n",
    "print(df_train.shape)"
   ]
  },
  {
   "cell_type": "code",
   "execution_count": 4,
   "id": "99f63049",
   "metadata": {
    "execution": {
     "iopub.execute_input": "2022-11-16T10:56:21.274313Z",
     "iopub.status.busy": "2022-11-16T10:56:21.273608Z",
     "iopub.status.idle": "2022-11-16T10:56:21.280873Z",
     "shell.execute_reply": "2022-11-16T10:56:21.279589Z"
    },
    "papermill": {
     "duration": 0.016882,
     "end_time": "2022-11-16T10:56:21.283123",
     "exception": false,
     "start_time": "2022-11-16T10:56:21.266241",
     "status": "completed"
    },
    "tags": []
   },
   "outputs": [
    {
     "name": "stdout",
     "output_type": "stream",
     "text": [
      "   S. No.                                       Message_body Label\n",
      "0       1  UpgrdCentre Orange customer, you may now claim...  Spam\n",
      "1       2  Loan for any purpose £500 - £75,000. Homeowner...  Spam\n",
      "2       3  Congrats! Nokia 3650 video camera phone is you...  Spam\n",
      "3       4  URGENT! Your Mobile number has been awarded wi...  Spam\n",
      "4       5  Someone has contacted our dating service and e...  Spam\n",
      "(125, 3)\n"
     ]
    }
   ],
   "source": [
    "print(df_test.head())\n",
    "print(df_test.shape)"
   ]
  },
  {
   "cell_type": "code",
   "execution_count": 5,
   "id": "b10249fb",
   "metadata": {
    "execution": {
     "iopub.execute_input": "2022-11-16T10:56:21.296750Z",
     "iopub.status.busy": "2022-11-16T10:56:21.296370Z",
     "iopub.status.idle": "2022-11-16T10:56:21.312374Z",
     "shell.execute_reply": "2022-11-16T10:56:21.310946Z"
    },
    "papermill": {
     "duration": 0.025466,
     "end_time": "2022-11-16T10:56:21.314536",
     "exception": false,
     "start_time": "2022-11-16T10:56:21.289070",
     "status": "completed"
    },
    "tags": []
   },
   "outputs": [
    {
     "name": "stdout",
     "output_type": "stream",
     "text": [
      "   S. No.                                       Message_body     Label  y\n",
      "0       1                         Rofl. Its true to its name  Non-Spam  0\n",
      "1       2  The guy did some bitching but I acted like i'd...  Non-Spam  0\n",
      "2       3  Pity, * was in mood for that. So...any other s...  Non-Spam  0\n",
      "3       4               Will ü b going to esplanade fr home?  Non-Spam  0\n",
      "4       5  This is the 2nd time we have tried 2 contact u...      Spam  1\n",
      "(957, 4)\n"
     ]
    }
   ],
   "source": [
    "df_train['y'] = pd.Categorical(df_train['Label']).codes\n",
    "print(df_train.head())\n",
    "print(df_train.shape)"
   ]
  },
  {
   "cell_type": "code",
   "execution_count": 6,
   "id": "9eb30df8",
   "metadata": {
    "execution": {
     "iopub.execute_input": "2022-11-16T10:56:21.331852Z",
     "iopub.status.busy": "2022-11-16T10:56:21.331491Z",
     "iopub.status.idle": "2022-11-16T10:56:21.340231Z",
     "shell.execute_reply": "2022-11-16T10:56:21.339467Z"
    },
    "papermill": {
     "duration": 0.019709,
     "end_time": "2022-11-16T10:56:21.343378",
     "exception": false,
     "start_time": "2022-11-16T10:56:21.323669",
     "status": "completed"
    },
    "tags": []
   },
   "outputs": [
    {
     "name": "stdout",
     "output_type": "stream",
     "text": [
      "   S. No.                                       Message_body Label  y\n",
      "0       1  UpgrdCentre Orange customer, you may now claim...  Spam  1\n",
      "1       2  Loan for any purpose £500 - £75,000. Homeowner...  Spam  1\n",
      "2       3  Congrats! Nokia 3650 video camera phone is you...  Spam  1\n",
      "3       4  URGENT! Your Mobile number has been awarded wi...  Spam  1\n",
      "4       5  Someone has contacted our dating service and e...  Spam  1\n",
      "(125, 4)\n"
     ]
    }
   ],
   "source": [
    "df_test['y'] = pd.Categorical(df_test['Label']).codes\n",
    "print(df_test.head())\n",
    "print(df_test.shape)"
   ]
  },
  {
   "cell_type": "code",
   "execution_count": 7,
   "id": "49a5f63b",
   "metadata": {
    "execution": {
     "iopub.execute_input": "2022-11-16T10:56:21.365252Z",
     "iopub.status.busy": "2022-11-16T10:56:21.364130Z",
     "iopub.status.idle": "2022-11-16T10:56:21.383527Z",
     "shell.execute_reply": "2022-11-16T10:56:21.382045Z"
    },
    "papermill": {
     "duration": 0.032233,
     "end_time": "2022-11-16T10:56:21.385912",
     "exception": false,
     "start_time": "2022-11-16T10:56:21.353679",
     "status": "completed"
    },
    "tags": []
   },
   "outputs": [
    {
     "name": "stdout",
     "output_type": "stream",
     "text": [
      "<class 'pandas.core.frame.DataFrame'>\n",
      "RangeIndex: 125 entries, 0 to 124\n",
      "Data columns (total 4 columns):\n",
      " #   Column        Non-Null Count  Dtype \n",
      "---  ------        --------------  ----- \n",
      " 0   S. No.        125 non-null    int64 \n",
      " 1   Message_body  125 non-null    object\n",
      " 2   Label         125 non-null    object\n",
      " 3   y             125 non-null    int8  \n",
      "dtypes: int64(1), int8(1), object(2)\n",
      "memory usage: 3.2+ KB\n"
     ]
    }
   ],
   "source": [
    "df_test.info()"
   ]
  },
  {
   "cell_type": "code",
   "execution_count": 8,
   "id": "d539253b",
   "metadata": {
    "execution": {
     "iopub.execute_input": "2022-11-16T10:56:21.404855Z",
     "iopub.status.busy": "2022-11-16T10:56:21.403918Z",
     "iopub.status.idle": "2022-11-16T10:56:21.641237Z",
     "shell.execute_reply": "2022-11-16T10:56:21.640032Z"
    },
    "papermill": {
     "duration": 0.249842,
     "end_time": "2022-11-16T10:56:21.643695",
     "exception": false,
     "start_time": "2022-11-16T10:56:21.393853",
     "status": "completed"
    },
    "tags": []
   },
   "outputs": [
    {
     "name": "stderr",
     "output_type": "stream",
     "text": [
      "/opt/conda/lib/python3.7/site-packages/seaborn/_decorators.py:43: FutureWarning: Pass the following variable as a keyword arg: x. From version 0.12, the only valid positional argument will be `data`, and passing other arguments without an explicit keyword will result in an error or misinterpretation.\n",
      "  FutureWarning\n"
     ]
    },
    {
     "data": {
      "text/plain": [
       "<AxesSubplot:xlabel='Label', ylabel='count'>"
      ]
     },
     "execution_count": 8,
     "metadata": {},
     "output_type": "execute_result"
    },
    {
     "data": {
      "image/png": "[encoded data removed]",
      "text/plain": [
       "<Figure size 432x288 with 1 Axes>"
      ]
     },
     "metadata": {
      "needs_background": "light"
     },
     "output_type": "display_data"
    }
   ],
   "source": [
    "sns.countplot(df_train['Label'])"
   ]
  },
  {
   "cell_type": "markdown",
   "id": "3bfa0599",
   "metadata": {
    "papermill": {
     "duration": 0.006552,
     "end_time": "2022-11-16T10:56:21.657577",
     "exception": false,
     "start_time": "2022-11-16T10:56:21.651025",
     "status": "completed"
    },
    "tags": []
   },
   "source": [
    "# 3. Feature engineering (Count vectorizer)"
   ]
  },
  {
   "cell_type": "code",
   "execution_count": 9,
   "id": "90090640",
   "metadata": {
    "execution": {
     "iopub.execute_input": "2022-11-16T10:56:21.673479Z",
     "iopub.status.busy": "2022-11-16T10:56:21.672520Z",
     "iopub.status.idle": "2022-11-16T10:56:21.678784Z",
     "shell.execute_reply": "2022-11-16T10:56:21.677957Z"
    },
    "papermill": {
     "duration": 0.016356,
     "end_time": "2022-11-16T10:56:21.680827",
     "exception": false,
     "start_time": "2022-11-16T10:56:21.664471",
     "status": "completed"
    },
    "tags": []
   },
   "outputs": [],
   "source": [
    "df = pd.concat([df_train,df_test], ignore_index=False, axis=0)"
   ]
  },
  {
   "cell_type": "code",
   "execution_count": 10,
   "id": "bbc2b3b9",
   "metadata": {
    "execution": {
     "iopub.execute_input": "2022-11-16T10:56:21.695703Z",
     "iopub.status.busy": "2022-11-16T10:56:21.695277Z",
     "iopub.status.idle": "2022-11-16T10:56:21.702432Z",
     "shell.execute_reply": "2022-11-16T10:56:21.701291Z"
    },
    "papermill": {
     "duration": 0.016988,
     "end_time": "2022-11-16T10:56:21.704591",
     "exception": false,
     "start_time": "2022-11-16T10:56:21.687603",
     "status": "completed"
    },
    "tags": []
   },
   "outputs": [
    {
     "data": {
      "text/plain": [
       "(1082, 4)"
      ]
     },
     "execution_count": 10,
     "metadata": {},
     "output_type": "execute_result"
    }
   ],
   "source": [
    "df.shape"
   ]
  },
  {
   "cell_type": "code",
   "execution_count": 11,
   "id": "5eb1d663",
   "metadata": {
    "execution": {
     "iopub.execute_input": "2022-11-16T10:56:21.719069Z",
     "iopub.status.busy": "2022-11-16T10:56:21.718673Z",
     "iopub.status.idle": "2022-11-16T10:56:21.724776Z",
     "shell.execute_reply": "2022-11-16T10:56:21.723070Z"
    },
    "papermill": {
     "duration": 0.016923,
     "end_time": "2022-11-16T10:56:21.727944",
     "exception": false,
     "start_time": "2022-11-16T10:56:21.711021",
     "status": "completed"
    },
    "tags": []
   },
   "outputs": [],
   "source": [
    "y = df['y'].values"
   ]
  },
  {
   "cell_type": "code",
   "execution_count": 12,
   "id": "0e896037",
   "metadata": {
    "execution": {
     "iopub.execute_input": "2022-11-16T10:56:21.747818Z",
     "iopub.status.busy": "2022-11-16T10:56:21.746375Z",
     "iopub.status.idle": "2022-11-16T10:56:21.754166Z",
     "shell.execute_reply": "2022-11-16T10:56:21.753317Z"
    },
    "papermill": {
     "duration": 0.020512,
     "end_time": "2022-11-16T10:56:21.757389",
     "exception": false,
     "start_time": "2022-11-16T10:56:21.736877",
     "status": "completed"
    },
    "tags": []
   },
   "outputs": [
    {
     "data": {
      "text/plain": [
       "(1082,)"
      ]
     },
     "execution_count": 12,
     "metadata": {},
     "output_type": "execute_result"
    }
   ],
   "source": [
    "y.shape"
   ]
  },
  {
   "cell_type": "markdown",
   "id": "f57f5dbc",
   "metadata": {
    "papermill": {
     "duration": 0.00967,
     "end_time": "2022-11-16T10:56:21.777752",
     "exception": false,
     "start_time": "2022-11-16T10:56:21.768082",
     "status": "completed"
    },
    "tags": []
   },
   "source": [
    "Make word vector count"
   ]
  },
  {
   "cell_type": "code",
   "execution_count": 13,
   "id": "550f9081",
   "metadata": {
    "execution": {
     "iopub.execute_input": "2022-11-16T10:56:21.799700Z",
     "iopub.status.busy": "2022-11-16T10:56:21.798458Z",
     "iopub.status.idle": "2022-11-16T10:56:21.835036Z",
     "shell.execute_reply": "2022-11-16T10:56:21.834129Z"
    },
    "papermill": {
     "duration": 0.050036,
     "end_time": "2022-11-16T10:56:21.837845",
     "exception": false,
     "start_time": "2022-11-16T10:56:21.787809",
     "status": "completed"
    },
    "tags": []
   },
   "outputs": [],
   "source": [
    "vectorizer = CountVectorizer()\n",
    "spamham_countVector = vectorizer.fit_transform(df['Message_body'])"
   ]
  },
  {
   "cell_type": "code",
   "execution_count": 14,
   "id": "f2cf93e9",
   "metadata": {
    "execution": {
     "iopub.execute_input": "2022-11-16T10:56:21.852627Z",
     "iopub.status.busy": "2022-11-16T10:56:21.852225Z",
     "iopub.status.idle": "2022-11-16T10:56:21.858374Z",
     "shell.execute_reply": "2022-11-16T10:56:21.857362Z"
    },
    "papermill": {
     "duration": 0.016105,
     "end_time": "2022-11-16T10:56:21.860592",
     "exception": false,
     "start_time": "2022-11-16T10:56:21.844487",
     "status": "completed"
    },
    "tags": []
   },
   "outputs": [
    {
     "data": {
      "text/plain": [
       "(1082, 3527)"
      ]
     },
     "execution_count": 14,
     "metadata": {},
     "output_type": "execute_result"
    }
   ],
   "source": [
    "spamham_countVector.shape"
   ]
  },
  {
   "cell_type": "code",
   "execution_count": 15,
   "id": "876f9a9a",
   "metadata": {
    "execution": {
     "iopub.execute_input": "2022-11-16T10:56:21.875700Z",
     "iopub.status.busy": "2022-11-16T10:56:21.875321Z",
     "iopub.status.idle": "2022-11-16T10:56:21.882857Z",
     "shell.execute_reply": "2022-11-16T10:56:21.882021Z"
    },
    "papermill": {
     "duration": 0.017775,
     "end_time": "2022-11-16T10:56:21.885222",
     "exception": false,
     "start_time": "2022-11-16T10:56:21.867447",
     "status": "completed"
    },
    "tags": []
   },
   "outputs": [],
   "source": [
    "X_train, X_test, y_train, y_test = train_test_split(spamham_countVector, y, test_size = 0.2)"
   ]
  },
  {
   "cell_type": "code",
   "execution_count": 16,
   "id": "45acc1bd",
   "metadata": {
    "execution": {
     "iopub.execute_input": "2022-11-16T10:56:21.901230Z",
     "iopub.status.busy": "2022-11-16T10:56:21.900106Z",
     "iopub.status.idle": "2022-11-16T10:56:21.907452Z",
     "shell.execute_reply": "2022-11-16T10:56:21.905969Z"
    },
    "papermill": {
     "duration": 0.01793,
     "end_time": "2022-11-16T10:56:21.909985",
     "exception": false,
     "start_time": "2022-11-16T10:56:21.892055",
     "status": "completed"
    },
    "tags": []
   },
   "outputs": [
    {
     "name": "stdout",
     "output_type": "stream",
     "text": [
      "(865, 3527)\n",
      "(865,)\n",
      "(217, 3527)\n",
      "(217,)\n"
     ]
    }
   ],
   "source": [
    "print(X_train.shape)\n",
    "print(y_train.shape)\n",
    "print(X_test.shape)\n",
    "print(y_test.shape)"
   ]
  },
  {
   "cell_type": "markdown",
   "id": "434465f0",
   "metadata": {
    "papermill": {
     "duration": 0.00643,
     "end_time": "2022-11-16T10:56:21.923902",
     "exception": false,
     "start_time": "2022-11-16T10:56:21.917472",
     "status": "completed"
    },
    "tags": []
   },
   "source": [
    "# 4. Train model"
   ]
  },
  {
   "cell_type": "code",
   "execution_count": 17,
   "id": "e50925c4",
   "metadata": {
    "execution": {
     "iopub.execute_input": "2022-11-16T10:56:21.939834Z",
     "iopub.status.busy": "2022-11-16T10:56:21.939016Z",
     "iopub.status.idle": "2022-11-16T10:56:21.948720Z",
     "shell.execute_reply": "2022-11-16T10:56:21.947958Z"
    },
    "papermill": {
     "duration": 0.019883,
     "end_time": "2022-11-16T10:56:21.950620",
     "exception": false,
     "start_time": "2022-11-16T10:56:21.930737",
     "status": "completed"
    },
    "tags": []
   },
   "outputs": [
    {
     "data": {
      "text/plain": [
       "MultinomialNB()"
      ]
     },
     "execution_count": 17,
     "metadata": {},
     "output_type": "execute_result"
    }
   ],
   "source": [
    "NB_classifier = MultinomialNB()\n",
    "NB_classifier.fit(X_train,y_train)"
   ]
  },
  {
   "cell_type": "markdown",
   "id": "65825a8d",
   "metadata": {
    "papermill": {
     "duration": 0.006596,
     "end_time": "2022-11-16T10:56:21.964268",
     "exception": false,
     "start_time": "2022-11-16T10:56:21.957672",
     "status": "completed"
    },
    "tags": []
   },
   "source": [
    "# 5. Evaluate model"
   ]
  },
  {
   "cell_type": "code",
   "execution_count": 18,
   "id": "a1f0f1ba",
   "metadata": {
    "execution": {
     "iopub.execute_input": "2022-11-16T10:56:21.980622Z",
     "iopub.status.busy": "2022-11-16T10:56:21.979430Z",
     "iopub.status.idle": "2022-11-16T10:56:22.231998Z",
     "shell.execute_reply": "2022-11-16T10:56:22.230899Z"
    },
    "papermill": {
     "duration": 0.262944,
     "end_time": "2022-11-16T10:56:22.234178",
     "exception": false,
     "start_time": "2022-11-16T10:56:21.971234",
     "status": "completed"
    },
    "tags": []
   },
   "outputs": [
    {
     "data": {
      "text/plain": [
       "<AxesSubplot:>"
      ]
     },
     "execution_count": 18,
     "metadata": {},
     "output_type": "execute_result"
    },
    {
     "data": {
      "image/png": "[encoded data removed]",
      "text/plain": [
       "<Figure size 432x288 with 2 Axes>"
      ]
     },
     "metadata": {
      "needs_background": "light"
     },
     "output_type": "display_data"
    }
   ],
   "source": [
    "y_pred = NB_classifier.predict(X_test)\n",
    "cm = confusion_matrix(y_test, y_pred)\n",
    "sns.heatmap(cm, annot=True)"
   ]
  },
  {
   "cell_type": "code",
   "execution_count": 19,
   "id": "c0118999",
   "metadata": {
    "execution": {
     "iopub.execute_input": "2022-11-16T10:56:22.249887Z",
     "iopub.status.busy": "2022-11-16T10:56:22.249530Z",
     "iopub.status.idle": "2022-11-16T10:56:22.259029Z",
     "shell.execute_reply": "2022-11-16T10:56:22.257858Z"
    },
    "papermill": {
     "duration": 0.019725,
     "end_time": "2022-11-16T10:56:22.261211",
     "exception": false,
     "start_time": "2022-11-16T10:56:22.241486",
     "status": "completed"
    },
    "tags": []
   },
   "outputs": [
    {
     "name": "stdout",
     "output_type": "stream",
     "text": [
      "              precision    recall  f1-score   support\n",
      "\n",
      "           0       1.00      0.98      0.99       175\n",
      "           1       0.91      1.00      0.95        42\n",
      "\n",
      "    accuracy                           0.98       217\n",
      "   macro avg       0.96      0.99      0.97       217\n",
      "weighted avg       0.98      0.98      0.98       217\n",
      "\n"
     ]
    }
   ],
   "source": [
    "print(classification_report(y_test, y_pred))"
   ]
  }
 ],
 "metadata": {
  "kernelspec": {
   "display_name": "Python 3 (ipykernel)",
   "language": "python",
   "name": "python3"
  },
  "language_info": {
   "codemirror_mode": {
    "name": "ipython",
    "version": 3
   },
   "file_extension": ".py",
   "mimetype": "text/x-python",
   "name": "python",
   "nbconvert_exporter": "python",
   "pygments_lexer": "ipython3",
   "version": "3.9.7"
  },
  "papermill": {
   "default_parameters": {},
   "duration": 10.817043,
   "end_time": "2022-11-16T10:56:22.988868",
   "environment_variables": {},
   "exception": null,
   "input_path": "__notebook__.ipynb",
   "output_path": "__notebook__.ipynb",
   "parameters": {},
   "start_time": "2022-11-16T10:56:12.171825",
   "version": "2.3.4"
  }
 },
 "nbformat": 4,
 "nbformat_minor": 5
}
